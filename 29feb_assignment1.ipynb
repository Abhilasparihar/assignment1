{
 "cells": [
  {
   "cell_type": "code",
   "execution_count": null,
   "id": "74ce85e9-f612-4c66-9b3f-2019a4cb1f37",
   "metadata": {},
   "outputs": [],
   "source": [
    "answer_1 Guido van Rossum developed python programming language.\n",
    "answer_2 Object-Oriented , structured and functional programming language support by python.\n",
    "answer_3 Yes, python Case sensitive when dealing with identifiers.\n",
    "answer_4 .py is the correct file extension for Python files.\n",
    "aswer_5  Python is a interpreted language.\n",
    "anser_6 A module, a function body, and a class definition are used to define in python language.\n",
    "anser_7 hash symbol , #\n",
    "anser_8 sys.version\n",
    "anser_9  Lambda\n",
    "anser_10 pip install packages\n",
    "anser_11 compile(), complex(), delattr(), dict(), str(), int(), range(), type(), len()\n",
    "anser_12 79 characters\n",
    "anser_13 1/Presence of third-party modules \n",
    "2/ Extensive support libraries(NumPy for numerical calculations, Pandas for data analytics, etc.) \n",
    "3/ pen source and large active community base \n",
    "4/ Versatile, Easy to read, learn and write\n",
    "5/ User-friendly data structures \n",
    "6/ High-level language \n",
    "7/ Dynamically typed language(No need to mention data type based on the value assigned, it takes data type) \n",
    "8/ Object-Oriented and Procedural  Programming language\n",
    "9/ Portable and Interactive\n",
    "10/ Ideal for prototypes – provide more functionality with less coding\n",
    "11/ Highly Efficient(Python’s clean object-oriented design provides enhanced process control, and the language is equipped with excellent text processing and integration capabilities, as well as its own unit testing framework, which makes it more efficient.)\n",
    "12/ Internet of Things(IoT) Opportunities\n",
    "13/ Interpreted Language\n",
    "14/ Portable across Operating systems \n",
    "anser_14 According to the Python memory management documentation, Python has a private heap that stores our program’s objects \n",
    "and data structures. Python memory manager takes care of the bulk of the memory management work and allows us to concentrate \n",
    "on our code.\n",
    "anser_15 \n",
    "1-Right-clicking This PC and going to Properties.\n",
    "2-Clicking on the Advanced system settings in the menu on the left.\n",
    "3-Clicking on the Environment Variables button o​n the bottom right.\n",
    "4-In the System variables section, selecting the Path variable and clicking on Edit. The next screen will show all the directories that are currently a part of the PATH variable.\n",
    "5-Clicking on New and entering Python’s install directory.\n",
    "\n",
    "anser_16 Indentation is important to Python, because it's how you determine scope. Scope is how Python knows what code \n",
    "belongs to what part of the program.\n",
    "\n",
    "\n",
    "\n",
    "\n",
    "\n"
   ]
  }
 ],
 "metadata": {
  "kernelspec": {
   "display_name": "Python 3 (ipykernel)",
   "language": "python",
   "name": "python3"
  },
  "language_info": {
   "codemirror_mode": {
    "name": "ipython",
    "version": 3
   },
   "file_extension": ".py",
   "mimetype": "text/x-python",
   "name": "python",
   "nbconvert_exporter": "python",
   "pygments_lexer": "ipython3",
   "version": "3.10.8"
  }
 },
 "nbformat": 4,
 "nbformat_minor": 5
}
